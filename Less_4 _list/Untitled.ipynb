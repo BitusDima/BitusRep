{
 "cells": [
  {
   "cell_type": "code",
   "execution_count": 2,
   "metadata": {},
   "outputs": [
    {
     "name": "stdout",
     "output_type": "stream",
     "text": [
      "Введите Ваш рост в метрах: \n",
      "1.95\n",
      "Введите Ваш вес в килограммах: \n",
      "95\n",
      "Ваш индекс массы тела: 25\n",
      "\n",
      "10 ===============|=================================== 60\n"
     ]
    }
   ],
   "source": [
    "\n",
    "print(\"Введите Ваш рост в метрах: \")\n",
    "h = float(input())\n",
    "print(\"Введите Ваш вес в килограммах: \")\n",
    "m = float(input())\n",
    "\n",
    "I = round(m / h ** 2)\n",
    "print('Ваш индекс массы тела:', I)\n",
    "print()\n",
    "before = I - 10\n",
    "after = 60 - I\n",
    "print(\"10\", \"=\" * before +  \"|\" + \"=\" * after, \"60\")"
   ]
  },
  {
   "cell_type": "code",
   "execution_count": null,
   "metadata": {},
   "outputs": [],
   "source": []
  }
 ],
 "metadata": {
  "kernelspec": {
   "display_name": "Python 3",
   "language": "python",
   "name": "python3"
  },
  "language_info": {
   "codemirror_mode": {
    "name": "ipython",
    "version": 3
   },
   "file_extension": ".py",
   "mimetype": "text/x-python",
   "name": "python",
   "nbconvert_exporter": "python",
   "pygments_lexer": "ipython3",
   "version": "3.8.10"
  }
 },
 "nbformat": 4,
 "nbformat_minor": 4
}
